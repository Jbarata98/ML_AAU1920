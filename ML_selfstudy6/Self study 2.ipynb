{
 "cells": [
  {
   "cell_type": "markdown",
   "metadata": {},
   "source": [
    "In this self study you should experiment with convolutional neural networks using PyTorch. In the last self study session we only made limited use of PyTorch (only using it for calculating gradients), but in this self study we will take advantage of much more of its functionality.\n",
    "\n",
    "In particular, we will work with the _torch.nn_ module provided by PyTorch. A short introduction to this module and how to define neural networks in PyTorch can be found at\n",
    "\n",
    "* https://pytorch.org/tutorials/beginner/blitz/neural_networks_tutorial.html#sphx-glr-beginner-blitz-neural-networks-tutorial-py\n",
    "\n",
    "* https://pytorch.org/tutorials/beginner/nn_tutorial.html\n",
    "\n",
    "For this self study you may either go through these tutorials before working on the notebook or consult themt when needed as you move forward in the notebook. The former tutorial is part of a general tutorial package to PyTorch, which can be found at (this also includes a nice introduction to tensors in PyTorch)\n",
    "\n",
    "* https://pytorch.org/tutorials/beginner/deep_learning_60min_blitz.html"
   ]
  },
  {
   "cell_type": "markdown",
   "metadata": {},
   "source": [
    "First we import relevant modules:"
   ]
  },
  {
   "cell_type": "code",
   "execution_count": 1,
   "metadata": {},
   "outputs": [],
   "source": [
    "import torch\n",
    "import torch.nn as nn\n",
    "import torch.nn.functional as F\n",
    "from torchvision import datasets, transforms\n",
    "from torch.utils.data.sampler import SubsetRandomSampler\n",
    "from matplotlib import pyplot\n",
    "import numpy as np"
   ]
  },
  {
   "cell_type": "markdown",
   "metadata": {},
   "source": [
    "## Loading the data"
   ]
  },
  {
   "cell_type": "markdown",
   "metadata": {},
   "source": [
    "As last time we will be working with the MNIST data set: The MNIST database consists of grey scale images of handwritten digits. Each image is of size $28\\times 28$; see figure below for an illustration. The data set is divided into a training set consisting of $60000$ images and a test set with $10000$ images; in both\n",
    "data sets the images are labeled with the correct digits. If interested you can find more information about the MNIST data set at http://yann.lecun.com/exdb/mnist/, including accuracy results for various machine learning methods.\n",
    "\n",
    "![MNIST DATA](MNIST-dataset.png)"
   ]
  },
  {
   "cell_type": "markdown",
   "metadata": {},
   "source": [
    "For this self study, we will be a bit more careful with our data. Specifically, we will divide the data into a training, validation, and test, and use the training and validation set for model learning (in the previous self study we did not have a validation set). \n",
    "\n",
    "The data set is created by setting aside a randomly chosen subset of the data, where the splitting point is found using the help function *split_indicies* below."
   ]
  },
  {
   "cell_type": "code",
   "execution_count": 2,
   "metadata": {},
   "outputs": [
    {
     "name": "stdout",
     "output_type": "stream",
     "text": [
      "Number of training examples: 48000\n",
      "Number of validation examples: 12000\n"
     ]
    }
   ],
   "source": [
    "def split_indicies(n, val_pct):\n",
    "    # Size of validation set\n",
    "    n_val = int(n*val_pct)\n",
    "    # Random permutation\n",
    "    idxs = np.random.permutation(n)\n",
    "    # Return first indexes for the validation set\n",
    "    return idxs[n_val:], idxs[:n_val]\n",
    "    \n",
    "\n",
    "\n",
    "# Load the data\n",
    "train_dataset = datasets.MNIST('../data', train=True, download=True,\n",
    "                   transform=transforms.Compose([\n",
    "                       transforms.ToTensor(),\n",
    "                       transforms.Normalize((0.1307,), (0.3081,))\n",
    "                   ]))\n",
    "\n",
    "# Get the indicies for the training data and test data (the validation set will consists of 20% of the data)\n",
    "train_idxs, val_idxs = split_indicies(len(train_dataset), 0.2)\n",
    "\n",
    "# Define samplers (used by Dataloader) to the two sets of indicies\n",
    "train_sampler = SubsetRandomSampler(train_idxs)\n",
    "val_sampler = SubsetRandomSampler(val_idxs)\n",
    "\n",
    "# Specify data loaders for our training and test set (same functionality as in the previous self study)\n",
    "train_loader = torch.utils.data.DataLoader(train_dataset, batch_size=64, sampler=train_sampler)\n",
    "val_loader = torch.utils.data.DataLoader(train_dataset, batch_size=64, sampler=val_sampler)\n",
    "\n",
    "print(f\"Number of training examples: {len(train_idxs)}\")\n",
    "print(f\"Number of validation examples: {len(val_idxs)}\")"
   ]
  },
  {
   "cell_type": "markdown",
   "metadata": {},
   "source": [
    "The test set is loaded in the usual fashion"
   ]
  },
  {
   "cell_type": "code",
   "execution_count": 3,
   "metadata": {},
   "outputs": [],
   "source": [
    "test_loader = torch.utils.data.DataLoader(\n",
    "        datasets.MNIST('../data', train=False, transform=transforms.Compose([\n",
    "            transforms.ToTensor(),\n",
    "            transforms.Normalize((0.1307,), (0.3081,))\n",
    "        ])),\n",
    "        batch_size=64, shuffle=True)"
   ]
  },
  {
   "cell_type": "markdown",
   "metadata": {},
   "source": [
    "## Specifying the model\n",
    "\n",
    "When using the _torch.nn_ for specifying our model we subclass the _nn.Module_. The model thus holds all the parameters of the model (see the _init_ function) as well as a specification of the forward step. We don't have to keep track of the backward pass, as PyTorch handles this for us."
   ]
  },
  {
   "cell_type": "code",
   "execution_count": 4,
   "metadata": {},
   "outputs": [],
   "source": [
    "class MNIST_CNN(nn.Module):\n",
    "\n",
    "    def __init__(self):\n",
    "        super().__init__()\n",
    "\n",
    "        # Define a convolution operator with 1 input channel, 15 output channels and a kernel size of 5x5\n",
    "        self.conv1 = nn.Conv2d(1, 32, 5,stride=1, padding =(1,1))\n",
    "        self.conv2 = nn.Conv2d(32,64, 5,stride=1, padding =(1,1))\n",
    "        \n",
    "        # Since we are not doing padding (see Lecture 2, Slide 23) the width of the following layer is reduced; for\n",
    "        # each channel the resulting dimension is 24x24. We feed the resulting representation through a linear \n",
    "        # layer, giving 10 values as output - one for each digit.\n",
    "        self.fc1 = nn.Linear( 64* 24 * 24, 10)\n",
    "        #self.fc2 = nn.Linear(500, 10)\n",
    "        self.out = None\n",
    "\n",
    "    def forward(self, xb):\n",
    "\n",
    "        # Reshape the input tensor; '-1' indicates that PyTorch will fill-in this \n",
    "        # dimension, whereas the '1' indicates that we only have one color channel. \n",
    "        xb = xb.view(-1, 1, 28, 28)\n",
    "        bn1 = torch.nn.BatchNorm2d(64)\n",
    "        # Apply convolution and pass the result through a ReLU function\n",
    "        xb = F.relu(self.conv1(xb))\n",
    "        xb = F.relu(F.max_pool2d(self.conv2(xb), 1))\n",
    "        bn1(xb)\n",
    "        xb = F.dropout(xb, p=0.5)\n",
    "        # Reshape the representation\n",
    "        xb = xb.view(-1, 64*24*24)\n",
    "        # Apply the linear layer\n",
    "        xb = F.relu(self.fc1(xb))\n",
    "        #xb = F.dropout(xb, p = 0.5)\n",
    "        #xb = self.fc2(xb)\n",
    "        # and set the result as the output. Note that we don't take a softmax as this is handled internally in the \n",
    "        # loss function defined below.\n",
    "        self.out = xb\n",
    "\n",
    "        return xb"
   ]
  },
  {
   "cell_type": "markdown",
   "metadata": {},
   "source": [
    "## Learning and evaluating the model\n",
    "\n",
    "For learning the model, we will use the following function which performs one iteration over the training data. The function also takes an _epoch_ argument, but this is only used for reporting on the learning progress"
   ]
  },
  {
   "cell_type": "code",
   "execution_count": 5,
   "metadata": {},
   "outputs": [],
   "source": [
    "def train(model, train_loader, loss_fn, epoch):\n",
    "    # Tell PyTorch that this function is part of the training\n",
    "    model.train()\n",
    "\n",
    "    # As optimizer we use stochastic gradient descent as defined by PyTorch. PyTorch also includes a variety \n",
    "    # of other optimizers \n",
    "    learning_rate = 0.01\n",
    "    opt = torch.optim.SGD(model.parameters(), lr=learning_rate)\n",
    "\n",
    "    # Iterate over the training set, one batch at the time, as in the previous self sudy\n",
    "    for batch_idx, (data, target) in enumerate(train_loader):\n",
    "        # Get the prediction\n",
    "        y_pred = model(data)\n",
    "        \n",
    "        # Remember to zero the gradients so that they don't accumulate\n",
    "        \n",
    "        opt.zero_grad()\n",
    "\n",
    "        # Calculate the loss and and the gradients  \n",
    "        loss = loss_fn(y_pred, target)\n",
    "        loss.backward()\n",
    "\n",
    "        # Optimize the parameters by taking one 'step' with the optimizer\n",
    "        \n",
    "        opt.step()\n",
    "\n",
    "        # For every 10th batch we output a bit of info\n",
    "        if batch_idx % 10 == 0:\n",
    "            print('Train Epoch: {} [{}/{} ({:.0f}%)]\\tLoss: {:.6f}'.format(\n",
    "                epoch, batch_idx * len(data), len(train_loader.sampler),\n",
    "                       100. * batch_idx * len(data) / len(train_loader.sampler), loss.item()))"
   ]
  },
  {
   "cell_type": "markdown",
   "metadata": {},
   "source": [
    "In the end, we also want to validate our model. To do this we define the function below, which takes a data_loader (either the validation or test set) and reports the model's accuracy and loss on that data set."
   ]
  },
  {
   "cell_type": "code",
   "execution_count": 6,
   "metadata": {},
   "outputs": [],
   "source": [
    "def test_model(model, data_loader, loss_fn):\n",
    "    # Tell PyTorch that we are performing evaluation\n",
    "    model.eval()\n",
    "    \n",
    "    test_loss = 0\n",
    "    correct = 0\n",
    "    with torch.no_grad():\n",
    "        for data, target in data_loader:\n",
    "            output = model(data)\n",
    "            test_loss += loss_fn(output, target).item()  # sum up batch loss\n",
    "            pred = output.argmax(dim=1, keepdim=True)  # get the index of the max log-probability\n",
    "            correct += pred.eq(target.view_as(pred)).sum().item()\n",
    "\n",
    "    test_loss /= len(data_loader.dataset)\n",
    "\n",
    "    print('\\nTest/validation set: Average loss: {:.4f}, Accuracy: {}/{} ({:.0f}%)\\n'.format(\n",
    "        test_loss, correct, len(data_loader.sampler),\n",
    "        100. * correct / len(data_loader.sampler)))"
   ]
  },
  {
   "cell_type": "markdown",
   "metadata": {},
   "source": [
    "## A couple of helper functions\n",
    "\n",
    "Learning a deep neural network can be time consuming, and it might therefore be nice to be able to save and load previously learned models (see also https://pytorch.org/tutorials/beginner/saving_loading_models.html)."
   ]
  },
  {
   "cell_type": "code",
   "execution_count": 7,
   "metadata": {},
   "outputs": [],
   "source": [
    "def save_model(file_name, model):\n",
    "    torch.save(model, file_name)\n",
    "\n",
    "def load_model(file_name):\n",
    "    model = torch.load(file_name)\n",
    "    model.eval()\n",
    "    return model"
   ]
  },
  {
   "cell_type": "markdown",
   "metadata": {},
   "source": [
    "## Wrapping things up\n",
    "\n",
    "Finally, we will do the actual learning of the model."
   ]
  },
  {
   "cell_type": "code",
   "execution_count": 8,
   "metadata": {},
   "outputs": [],
   "source": [
    "# The number of passes that will be made over the training set\n",
    "num_epochs = 2\n",
    "# torch.nn defines several useful loss-functions, which we will take advantage of here (see Lecture 1, Slide 11, Log-loss).\n",
    "loss_fn = nn.CrossEntropyLoss()"
   ]
  },
  {
   "cell_type": "code",
   "execution_count": 9,
   "metadata": {},
   "outputs": [
    {
     "name": "stdout",
     "output_type": "stream",
     "text": [
      "Model structure:\n",
      "MNIST_CNN(\n",
      "  (conv1): Conv2d(1, 32, kernel_size=(5, 5), stride=(1, 1), padding=(1, 1))\n",
      "  (conv2): Conv2d(32, 64, kernel_size=(5, 5), stride=(1, 1), padding=(1, 1))\n",
      "  (fc1): Linear(in_features=36864, out_features=10, bias=True)\n",
      ")\n"
     ]
    }
   ],
   "source": [
    "# Instantiate the model class\n",
    "model = MNIST_CNN()\n",
    "# and get some information about the structure\n",
    "print('Model structure:')\n",
    "print(model)"
   ]
  },
  {
   "cell_type": "markdown",
   "metadata": {},
   "source": [
    "### Iterate over the data set\n",
    "\n",
    "We iterate over the data set for *num_epochs* number of iterations. At each iteration we also calculate the loss/accuracy on the validation set."
   ]
  },
  {
   "cell_type": "code",
   "execution_count": 10,
   "metadata": {},
   "outputs": [
    {
     "name": "stdout",
     "output_type": "stream",
     "text": [
      "Train Epoch: 0 [0/48000 (0%)]\tLoss: 2.303313\n",
      "Train Epoch: 0 [640/48000 (1%)]\tLoss: 1.946049\n",
      "Train Epoch: 0 [1280/48000 (3%)]\tLoss: 1.396419\n",
      "Train Epoch: 0 [1920/48000 (4%)]\tLoss: 1.284366\n",
      "Train Epoch: 0 [2560/48000 (5%)]\tLoss: 0.831374\n",
      "Train Epoch: 0 [3200/48000 (7%)]\tLoss: 1.087290\n",
      "Train Epoch: 0 [3840/48000 (8%)]\tLoss: 0.855274\n",
      "Train Epoch: 0 [4480/48000 (9%)]\tLoss: 0.952233\n",
      "Train Epoch: 0 [5120/48000 (11%)]\tLoss: 0.706657\n",
      "Train Epoch: 0 [5760/48000 (12%)]\tLoss: 0.741396\n",
      "Train Epoch: 0 [6400/48000 (13%)]\tLoss: 0.631622\n",
      "Train Epoch: 0 [7040/48000 (15%)]\tLoss: 0.997820\n",
      "Train Epoch: 0 [7680/48000 (16%)]\tLoss: 0.638226\n",
      "Train Epoch: 0 [8320/48000 (17%)]\tLoss: 0.657193\n",
      "Train Epoch: 0 [8960/48000 (19%)]\tLoss: 0.809851\n",
      "Train Epoch: 0 [9600/48000 (20%)]\tLoss: 0.824292\n",
      "Train Epoch: 0 [10240/48000 (21%)]\tLoss: 0.710429\n",
      "Train Epoch: 0 [10880/48000 (23%)]\tLoss: 0.616609\n",
      "Train Epoch: 0 [11520/48000 (24%)]\tLoss: 0.549127\n",
      "Train Epoch: 0 [12160/48000 (25%)]\tLoss: 0.715508\n",
      "Train Epoch: 0 [12800/48000 (27%)]\tLoss: 0.604978\n",
      "Train Epoch: 0 [13440/48000 (28%)]\tLoss: 0.575621\n",
      "Train Epoch: 0 [14080/48000 (29%)]\tLoss: 0.633559\n",
      "Train Epoch: 0 [14720/48000 (31%)]\tLoss: 0.643423\n",
      "Train Epoch: 0 [15360/48000 (32%)]\tLoss: 0.744107\n",
      "Train Epoch: 0 [16000/48000 (33%)]\tLoss: 0.526321\n",
      "Train Epoch: 0 [16640/48000 (35%)]\tLoss: 0.366524\n",
      "Train Epoch: 0 [17280/48000 (36%)]\tLoss: 0.511714\n",
      "Train Epoch: 0 [17920/48000 (37%)]\tLoss: 0.583320\n",
      "Train Epoch: 0 [18560/48000 (39%)]\tLoss: 0.600776\n",
      "Train Epoch: 0 [19200/48000 (40%)]\tLoss: 0.415676\n",
      "Train Epoch: 0 [19840/48000 (41%)]\tLoss: 0.440031\n",
      "Train Epoch: 0 [20480/48000 (43%)]\tLoss: 0.410205\n",
      "Train Epoch: 0 [21120/48000 (44%)]\tLoss: 0.406421\n",
      "Train Epoch: 0 [21760/48000 (45%)]\tLoss: 0.519838\n",
      "Train Epoch: 0 [22400/48000 (47%)]\tLoss: 0.596670\n",
      "Train Epoch: 0 [23040/48000 (48%)]\tLoss: 0.451710\n",
      "Train Epoch: 0 [23680/48000 (49%)]\tLoss: 0.419955\n",
      "Train Epoch: 0 [24320/48000 (51%)]\tLoss: 0.223633\n",
      "Train Epoch: 0 [24960/48000 (52%)]\tLoss: 0.184434\n",
      "Train Epoch: 0 [25600/48000 (53%)]\tLoss: 0.411725\n",
      "Train Epoch: 0 [26240/48000 (55%)]\tLoss: 0.243762\n",
      "Train Epoch: 0 [26880/48000 (56%)]\tLoss: 0.095745\n",
      "Train Epoch: 0 [27520/48000 (57%)]\tLoss: 0.234409\n",
      "Train Epoch: 0 [28160/48000 (59%)]\tLoss: 0.175460\n",
      "Train Epoch: 0 [28800/48000 (60%)]\tLoss: 0.232152\n",
      "Train Epoch: 0 [29440/48000 (61%)]\tLoss: 0.098526\n",
      "Train Epoch: 0 [30080/48000 (63%)]\tLoss: 0.152116\n",
      "Train Epoch: 0 [30720/48000 (64%)]\tLoss: 0.253353\n",
      "Train Epoch: 0 [31360/48000 (65%)]\tLoss: 0.272498\n",
      "Train Epoch: 0 [32000/48000 (67%)]\tLoss: 0.108998\n",
      "Train Epoch: 0 [32640/48000 (68%)]\tLoss: 0.139554\n",
      "Train Epoch: 0 [33280/48000 (69%)]\tLoss: 0.155814\n",
      "Train Epoch: 0 [33920/48000 (71%)]\tLoss: 0.216864\n",
      "Train Epoch: 0 [34560/48000 (72%)]\tLoss: 0.094424\n",
      "Train Epoch: 0 [35200/48000 (73%)]\tLoss: 0.117584\n",
      "Train Epoch: 0 [35840/48000 (75%)]\tLoss: 0.157371\n",
      "Train Epoch: 0 [36480/48000 (76%)]\tLoss: 0.233039\n",
      "Train Epoch: 0 [37120/48000 (77%)]\tLoss: 0.175219\n",
      "Train Epoch: 0 [37760/48000 (79%)]\tLoss: 0.117686\n",
      "Train Epoch: 0 [38400/48000 (80%)]\tLoss: 0.237745\n",
      "Train Epoch: 0 [39040/48000 (81%)]\tLoss: 0.169910\n",
      "Train Epoch: 0 [39680/48000 (83%)]\tLoss: 0.088133\n",
      "Train Epoch: 0 [40320/48000 (84%)]\tLoss: 0.081943\n",
      "Train Epoch: 0 [40960/48000 (85%)]\tLoss: 0.066652\n",
      "Train Epoch: 0 [41600/48000 (87%)]\tLoss: 0.090942\n",
      "Train Epoch: 0 [42240/48000 (88%)]\tLoss: 0.126041\n",
      "Train Epoch: 0 [42880/48000 (89%)]\tLoss: 0.257909\n",
      "Train Epoch: 0 [43520/48000 (91%)]\tLoss: 0.080527\n",
      "Train Epoch: 0 [44160/48000 (92%)]\tLoss: 0.105497\n",
      "Train Epoch: 0 [44800/48000 (93%)]\tLoss: 0.045424\n",
      "Train Epoch: 0 [45440/48000 (95%)]\tLoss: 0.226081\n",
      "Train Epoch: 0 [46080/48000 (96%)]\tLoss: 0.191979\n",
      "Train Epoch: 0 [46720/48000 (97%)]\tLoss: 0.353105\n",
      "Train Epoch: 0 [47360/48000 (99%)]\tLoss: 0.232157\n",
      "\n",
      "Test/validation set: Average loss: 0.0004, Accuracy: 11535/12000 (96%)\n",
      "\n",
      "Train Epoch: 1 [0/48000 (0%)]\tLoss: 0.041965\n",
      "Train Epoch: 1 [640/48000 (1%)]\tLoss: 0.036727\n",
      "Train Epoch: 1 [1280/48000 (3%)]\tLoss: 0.081903\n",
      "Train Epoch: 1 [1920/48000 (4%)]\tLoss: 0.089739\n",
      "Train Epoch: 1 [2560/48000 (5%)]\tLoss: 0.076403\n",
      "Train Epoch: 1 [3200/48000 (7%)]\tLoss: 0.043104\n",
      "Train Epoch: 1 [3840/48000 (8%)]\tLoss: 0.131657\n",
      "Train Epoch: 1 [4480/48000 (9%)]\tLoss: 0.176063\n",
      "Train Epoch: 1 [5120/48000 (11%)]\tLoss: 0.043622\n",
      "Train Epoch: 1 [5760/48000 (12%)]\tLoss: 0.036733\n",
      "Train Epoch: 1 [6400/48000 (13%)]\tLoss: 0.166781\n",
      "Train Epoch: 1 [7040/48000 (15%)]\tLoss: 0.061336\n",
      "Train Epoch: 1 [7680/48000 (16%)]\tLoss: 0.088621\n",
      "Train Epoch: 1 [8320/48000 (17%)]\tLoss: 0.266115\n",
      "Train Epoch: 1 [8960/48000 (19%)]\tLoss: 0.062355\n",
      "Train Epoch: 1 [9600/48000 (20%)]\tLoss: 0.182646\n",
      "Train Epoch: 1 [10240/48000 (21%)]\tLoss: 0.112785\n",
      "Train Epoch: 1 [10880/48000 (23%)]\tLoss: 0.105088\n",
      "Train Epoch: 1 [11520/48000 (24%)]\tLoss: 0.101400\n",
      "Train Epoch: 1 [12160/48000 (25%)]\tLoss: 0.100279\n",
      "Train Epoch: 1 [12800/48000 (27%)]\tLoss: 0.134393\n",
      "Train Epoch: 1 [13440/48000 (28%)]\tLoss: 0.078510\n",
      "Train Epoch: 1 [14080/48000 (29%)]\tLoss: 0.210222\n",
      "Train Epoch: 1 [14720/48000 (31%)]\tLoss: 0.198034\n",
      "Train Epoch: 1 [15360/48000 (32%)]\tLoss: 0.157634\n",
      "Train Epoch: 1 [16000/48000 (33%)]\tLoss: 0.123461\n",
      "Train Epoch: 1 [16640/48000 (35%)]\tLoss: 0.283267\n",
      "Train Epoch: 1 [17280/48000 (36%)]\tLoss: 0.080291\n",
      "Train Epoch: 1 [17920/48000 (37%)]\tLoss: 0.154273\n",
      "Train Epoch: 1 [18560/48000 (39%)]\tLoss: 0.038643\n",
      "Train Epoch: 1 [19200/48000 (40%)]\tLoss: 0.132081\n",
      "Train Epoch: 1 [19840/48000 (41%)]\tLoss: 0.193487\n",
      "Train Epoch: 1 [20480/48000 (43%)]\tLoss: 0.075489\n",
      "Train Epoch: 1 [21120/48000 (44%)]\tLoss: 0.082465\n",
      "Train Epoch: 1 [21760/48000 (45%)]\tLoss: 0.088477\n",
      "Train Epoch: 1 [22400/48000 (47%)]\tLoss: 0.064188\n",
      "Train Epoch: 1 [23040/48000 (48%)]\tLoss: 0.087753\n",
      "Train Epoch: 1 [23680/48000 (49%)]\tLoss: 0.066989\n",
      "Train Epoch: 1 [24320/48000 (51%)]\tLoss: 0.031565\n",
      "Train Epoch: 1 [24960/48000 (52%)]\tLoss: 0.133015\n",
      "Train Epoch: 1 [25600/48000 (53%)]\tLoss: 0.079320\n",
      "Train Epoch: 1 [26240/48000 (55%)]\tLoss: 0.035516\n",
      "Train Epoch: 1 [26880/48000 (56%)]\tLoss: 0.039530\n",
      "Train Epoch: 1 [27520/48000 (57%)]\tLoss: 0.150251\n",
      "Train Epoch: 1 [28160/48000 (59%)]\tLoss: 0.139618\n",
      "Train Epoch: 1 [28800/48000 (60%)]\tLoss: 0.081638\n",
      "Train Epoch: 1 [29440/48000 (61%)]\tLoss: 0.059955\n",
      "Train Epoch: 1 [30080/48000 (63%)]\tLoss: 0.055032\n",
      "Train Epoch: 1 [30720/48000 (64%)]\tLoss: 0.136570\n",
      "Train Epoch: 1 [31360/48000 (65%)]\tLoss: 0.087213\n",
      "Train Epoch: 1 [32000/48000 (67%)]\tLoss: 0.061908\n",
      "Train Epoch: 1 [32640/48000 (68%)]\tLoss: 0.067157\n",
      "Train Epoch: 1 [33280/48000 (69%)]\tLoss: 0.058475\n",
      "Train Epoch: 1 [33920/48000 (71%)]\tLoss: 0.045566\n",
      "Train Epoch: 1 [34560/48000 (72%)]\tLoss: 0.133883\n",
      "Train Epoch: 1 [35200/48000 (73%)]\tLoss: 0.101061\n",
      "Train Epoch: 1 [35840/48000 (75%)]\tLoss: 0.095775\n",
      "Train Epoch: 1 [36480/48000 (76%)]\tLoss: 0.034543\n",
      "Train Epoch: 1 [37120/48000 (77%)]\tLoss: 0.083039\n",
      "Train Epoch: 1 [37760/48000 (79%)]\tLoss: 0.039015\n",
      "Train Epoch: 1 [38400/48000 (80%)]\tLoss: 0.079444\n",
      "Train Epoch: 1 [39040/48000 (81%)]\tLoss: 0.113117\n",
      "Train Epoch: 1 [39680/48000 (83%)]\tLoss: 0.070351\n",
      "Train Epoch: 1 [40320/48000 (84%)]\tLoss: 0.105952\n",
      "Train Epoch: 1 [40960/48000 (85%)]\tLoss: 0.075627\n",
      "Train Epoch: 1 [41600/48000 (87%)]\tLoss: 0.061070\n",
      "Train Epoch: 1 [42240/48000 (88%)]\tLoss: 0.024447\n",
      "Train Epoch: 1 [42880/48000 (89%)]\tLoss: 0.083480\n",
      "Train Epoch: 1 [43520/48000 (91%)]\tLoss: 0.083851\n",
      "Train Epoch: 1 [44160/48000 (92%)]\tLoss: 0.020897\n",
      "Train Epoch: 1 [44800/48000 (93%)]\tLoss: 0.135165\n",
      "Train Epoch: 1 [45440/48000 (95%)]\tLoss: 0.175556\n",
      "Train Epoch: 1 [46080/48000 (96%)]\tLoss: 0.023706\n",
      "Train Epoch: 1 [46720/48000 (97%)]\tLoss: 0.078499\n",
      "Train Epoch: 1 [47360/48000 (99%)]\tLoss: 0.016560\n",
      "\n",
      "Test/validation set: Average loss: 0.0003, Accuracy: 11666/12000 (97%)\n",
      "\n"
     ]
    }
   ],
   "source": [
    "for i in range(num_epochs):\n",
    "    train(model, train_loader, loss_fn, i)\n",
    "    # Evaluate the model on the test set\n",
    "    test_model(model, val_loader, loss_fn)"
   ]
  },
  {
   "cell_type": "markdown",
   "metadata": {},
   "source": [
    "After learning we evaluate the model on the _test set_ and save the resulting structure."
   ]
  },
  {
   "cell_type": "code",
   "execution_count": 11,
   "metadata": {},
   "outputs": [
    {
     "name": "stderr",
     "output_type": "stream",
     "text": [
      "/home/starksultana/anaconda3/lib/python3.7/site-packages/sklearn/externals/joblib/__init__.py:15: DeprecationWarning: sklearn.externals.joblib is deprecated in 0.21 and will be removed in 0.23. Please import this functionality directly from joblib, which can be installed with: pip install joblib. If this warning is raised when loading pickled models, you may need to re-serialize those models with scikit-learn 0.21+.\n",
      "  warnings.warn(msg, category=DeprecationWarning)\n"
     ]
    },
    {
     "name": "stdout",
     "output_type": "stream",
     "text": [
      "\n",
      "Test/validation set: Average loss: 0.0013, Accuracy: 9744/10000 (97%)\n",
      "\n"
     ]
    },
    {
     "data": {
      "text/plain": [
       "['conv.pkl']"
      ]
     },
     "execution_count": 11,
     "metadata": {},
     "output_type": "execute_result"
    }
   ],
   "source": [
    "# Evaluate the model on the test set\n",
    "from sklearn.externals import joblib \n",
    "  \n",
    "\n",
    "test_model(model, test_loader, loss_fn)\n",
    "# Save the model\n",
    "# Save the model as a pickle in a file \n",
    "joblib.dump(model, 'conv.pkl')"
   ]
  },
  {
   "cell_type": "markdown",
   "metadata": {},
   "source": [
    "## Exercises\n",
    "\n",
    "1. Familiarize yourself with the code above and consult the PyTorch documentation when needed.\n",
    "2. Experiment with different NN architectures (also varying the convolutional parameters: size, stride, padding, etc) and observe the effect wrt. the loss/accuracy on the training and validation dataset (training, validation). Note that when adding new layers (including dropout [Lecture 1, Slide 32], pooling [Lecture 2, Slide 22], etc.) you need to make sure that the dimensionality of the layers match up. **IMPORTANT:** ignore the test set at this stage (i.e., comment out the relevant lines above) so that the results for the test set do not influence your model choice.\n",
    "3. In the model above we use a simple gradient descent learning scheme. Try other types of optimizers (see https://pytorch.org/docs/stable/optim.html) and analyze the effect.\n",
    "4. Lastly save your preferred model and send it to me (tdn@cs.aau.dk). At the next lecture we will then see who got the best results :-) Note that for this to be meaningful it is important that you have not relyed on the test set while doing model learning/selection."
   ]
  }
 ],
 "metadata": {
  "kernelspec": {
   "display_name": "Python 3",
   "language": "python",
   "name": "python3"
  },
  "language_info": {
   "codemirror_mode": {
    "name": "ipython",
    "version": 3
   },
   "file_extension": ".py",
   "mimetype": "text/x-python",
   "name": "python",
   "nbconvert_exporter": "python",
   "pygments_lexer": "ipython3",
   "version": "3.7.4"
  }
 },
 "nbformat": 4,
 "nbformat_minor": 2
}
