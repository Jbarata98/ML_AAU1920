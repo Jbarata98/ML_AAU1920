{
 "cells": [
  {
   "cell_type": "markdown",
   "metadata": {},
   "source": [
    "# Self study 1\n",
    "\n",
    "In this self study you should work on the code examples below together with the associated questions. The notebook illustrates a basic neural network implementation, where we implement most of the relevant functions from scratch. Except the calculation of gradients, for which we rely on the functionality provided by PyTorch. \n",
    "\n",
    "The code illustrates the key concepts involved in the learning neural network. Go carefully through the code before starting to answer the questions at the end."
   ]
  },
  {
   "cell_type": "markdown",
   "metadata": {},
   "source": [
    "Part of the code in the notebook is based on the tutorial at https://pytorch.org/tutorials/beginner/nn_tutorial.html"
   ]
  },
  {
   "cell_type": "markdown",
   "metadata": {},
   "source": [
    "First we import the modules used in this selfstudy"
   ]
  },
  {
   "cell_type": "code",
   "execution_count": 1,
   "metadata": {},
   "outputs": [],
   "source": [
    "import torch\n",
    "from pathlib import Path\n",
    "import requests\n",
    "from matplotlib import pyplot\n",
    "import matplotlib.pyplot as plt\n",
    "import numpy as np\n",
    "import pickle\n",
    "import gzip"
   ]
  },
  {
   "cell_type": "markdown",
   "metadata": {},
   "source": [
    "The MNIST database consists of grey scale images of handwritten digits. Each image is of size $28\\times 28$; see figure below for an illustration. The data set is divided into a training set, validation set, and test set consisting of $50000$, $10000$, and $10000$ images, respectively; in all data sets the images are labeled with the correct digits. If interested, you can find more information about the MNIST data set at http://yann.lecun.com/exdb/mnist/, including accuracy results for various machine learning methods.\n",
    "\n",
    "![MNIST DATA](MNIST-dataset.png)"
   ]
  },
  {
   "cell_type": "markdown",
   "metadata": {},
   "source": [
    "First we download the dataset and unpackage it."
   ]
  },
  {
   "cell_type": "code",
   "execution_count": 2,
   "metadata": {},
   "outputs": [],
   "source": [
    "DATA_PATH = Path(\"data\")\n",
    "PATH = DATA_PATH / \"mnist\"\n",
    "\n",
    "PATH.mkdir(parents=True, exist_ok=True)\n",
    "\n",
    "URL = \"http://deeplearning.net/data/mnist/\"\n",
    "FILENAME = \"mnist.pkl.gz\"\n",
    "\n",
    "if not (PATH / FILENAME).exists():\n",
    "        content = requests.get(URL + FILENAME).content\n",
    "        (PATH / FILENAME).open(\"wb\").write(content)"
   ]
  },
  {
   "cell_type": "markdown",
   "metadata": {},
   "source": [
    "We then extract the data and store it numpy arrays: x_train, y_train, x_valid, y_valid, x_test, y_test "
   ]
  },
  {
   "cell_type": "code",
   "execution_count": 3,
   "metadata": {},
   "outputs": [],
   "source": [
    "with gzip.open((PATH / FILENAME).as_posix(), \"rb\") as f:\n",
    "        ((x_train, y_train), (x_valid, y_valid), (x_test, y_test)) = pickle.load(f, encoding=\"latin-1\")"
   ]
  },
  {
   "cell_type": "code",
   "execution_count": 4,
   "metadata": {},
   "outputs": [
    {
     "data": {
      "text/plain": [
       "(10000, 784)"
      ]
     },
     "execution_count": 4,
     "metadata": {},
     "output_type": "execute_result"
    }
   ],
   "source": [
    "x_valid.shape"
   ]
  },
  {
   "cell_type": "markdown",
   "metadata": {},
   "source": [
    "The $28 \\times 28$ images are stored in rows of length $784$, hence to display the images we need to reshape them."
   ]
  },
  {
   "cell_type": "code",
   "execution_count": 5,
   "metadata": {
    "scrolled": true
   },
   "outputs": [
    {
     "name": "stdout",
     "output_type": "stream",
     "text": [
      "(50000, 784)\n"
     ]
    },
    {
     "data": {
      "image/png": "[encoded data removed]",
      "text/plain": [
       "<Figure size 432x288 with 1 Axes>"
      ]
     },
     "metadata": {
      "needs_background": "light"
     },
     "output_type": "display_data"
    }
   ],
   "source": [
    "pyplot.imshow(x_train[0].reshape((28, 28)), cmap=\"gray\")\n",
    "print(x_train.shape)"
   ]
  },
  {
   "cell_type": "markdown",
   "metadata": {},
   "source": [
    "In order to take adavntage of PyTorch support for calculating gradients, we need to convert the numpy arrays to PyTorch tensors. See the code example from the last lecture on PyTorch's support for automatic gradient calculation using the back propagation algorithm."
   ]
  },
  {
   "cell_type": "code",
   "execution_count": 6,
   "metadata": {},
   "outputs": [
    {
     "name": "stdout",
     "output_type": "stream",
     "text": [
      "tensor([[0., 0., 0.,  ..., 0., 0., 0.],\n",
      "        [0., 0., 0.,  ..., 0., 0., 0.],\n",
      "        [0., 0., 0.,  ..., 0., 0., 0.],\n",
      "        ...,\n",
      "        [0., 0., 0.,  ..., 0., 0., 0.],\n",
      "        [0., 0., 0.,  ..., 0., 0., 0.],\n",
      "        [0., 0., 0.,  ..., 0., 0., 0.]]) tensor([5, 0, 4,  ..., 8, 4, 8])\n",
      "torch.Size([50000, 784])\n",
      "tensor(0) tensor(9)\n"
     ]
    }
   ],
   "source": [
    "x_train, y_train, x_valid, y_valid, x_test, y_test = map(\n",
    "    torch.tensor, (x_train, y_train, x_valid, y_valid, x_test, y_test)\n",
    ")\n",
    "n, c = x_train.shape\n",
    "x_train, x_train.shape, y_train.min(), y_train.max()\n",
    "print(x_train, y_train)\n",
    "print(x_train.shape)\n",
    "print(y_train.min(), y_train.max())"
   ]
  },
  {
   "cell_type": "markdown",
   "metadata": {},
   "source": [
    "For the first part of this self study we will specify a neural network, which will encode a softmax function. For this we need a (randomly initialized) weight matrix and a bias, and for both of them we need their gradients wrt. our error function (yet to be defined) in order to perform learning. "
   ]
  },
  {
   "cell_type": "code",
   "execution_count": 7,
   "metadata": {},
   "outputs": [],
   "source": [
    "weights = torch.randn(784, 10) / np.sqrt(784)\n",
    "weights.requires_grad_()\n",
    "bias = torch.zeros(10, requires_grad=True)"
   ]
  },
  {
   "cell_type": "markdown",
   "metadata": {},
   "source": [
    "Out model specification"
   ]
  },
  {
   "cell_type": "code",
   "execution_count": 8,
   "metadata": {},
   "outputs": [],
   "source": [
    "def softmax(x):\n",
    "    return x.exp() / x.exp().sum(-1).unsqueeze(-1)\n",
    "\n",
    "# Below @ refers to matrix multiplication\n",
    "def model(xb):\n",
    "    return softmax(xb @ weights + bias)"
   ]
  },
  {
   "cell_type": "markdown",
   "metadata": {},
   "source": [
    "Let's test our model (with our randomly initialized weights) using a so-called batch size of 64 (more on this later in the note book); for the prediction we pick out the first element in the batch."
   ]
  },
  {
   "cell_type": "code",
   "execution_count": 9,
   "metadata": {},
   "outputs": [
    {
     "name": "stdout",
     "output_type": "stream",
     "text": [
      "Batch shape: torch.Size([64, 784])\n",
      "Prediction on first image tensor([0.2092, 0.0717, 0.1460, 0.0516, 0.0964, 0.0504, 0.0961, 0.0894, 0.0992,\n",
      "        0.0900], grad_fn=<SelectBackward>)\n",
      "Corresponding classification: 0\n"
     ]
    }
   ],
   "source": [
    "batch_size = 64\n",
    "xb = x_train[0:batch_size]\n",
    "print(f\"Batch shape: {xb.shape}\")\n",
    "preds = model(xb)\n",
    "print(f\"Prediction on first image {preds[0]}\")\n",
    "print(f\"Corresponding classification: {preds[0].argmax()}\")"
   ]
  },
  {
   "cell_type": "markdown",
   "metadata": {},
   "source": [
    "Next we define our loss function, in this case the log-loss (or negative log-likelihood):"
   ]
  },
  {
   "cell_type": "code",
   "execution_count": 10,
   "metadata": {},
   "outputs": [],
   "source": [
    "def nll(input, target):\n",
    "    return (-input[range(target.shape[0]), target].log()).mean()\n",
    "\n",
    "loss_func = nll\n",
    "\n",
    "# Make a test calculation\n",
    "yb = y_train[0:batch_size]\n"
   ]
  },
  {
   "cell_type": "markdown",
   "metadata": {},
   "source": [
    "In the end, we are interested in the accuracy of our model"
   ]
  },
  {
   "cell_type": "code",
   "execution_count": 11,
   "metadata": {},
   "outputs": [],
   "source": [
    "def accuracy(out, yb):\n",
    "    preds = torch.argmax(out, dim=1)\n",
    "    return (preds == yb).float().mean()"
   ]
  },
  {
   "cell_type": "code",
   "execution_count": 12,
   "metadata": {},
   "outputs": [
    {
     "name": "stdout",
     "output_type": "stream",
     "text": [
      "Accuracy of model on batch (with random weights): 0.109375\n"
     ]
    }
   ],
   "source": [
    "print(f\"Accuracy of model on batch (with random weights): {accuracy(preds, yb)}\")"
   ]
  },
  {
   "cell_type": "markdown",
   "metadata": {},
   "source": [
    "Now we are ready to combine it all and perform learning"
   ]
  },
  {
   "cell_type": "code",
   "execution_count": 13,
   "metadata": {
    "scrolled": false
   },
   "outputs": [
    {
     "name": "stdout",
     "output_type": "stream",
     "text": [
      "Epoch: 0, B-idx: 0, Training loss: 2.2910988330841064\n",
      "Epoch: 0, B-idx: 100, Training loss: 0.8160584568977356\n",
      "Epoch: 0, B-idx: 200, Training loss: 0.6293962597846985\n",
      "Epoch: 0, B-idx: 300, Training loss: 0.5458772778511047\n",
      "Epoch: 0, B-idx: 400, Training loss: 0.5033016204833984\n",
      "Epoch: 0, B-idx: 500, Training loss: 0.4728817045688629\n",
      "Epoch: 0, B-idx: 600, Training loss: 0.4513234794139862\n",
      "Epoch: 0, B-idx: 700, Training loss: 0.4325897693634033\n",
      "Epoch: 1, B-idx: 0, Training loss: 0.4232078194618225\n",
      "Epoch: 1, B-idx: 100, Training loss: 0.412797749042511\n",
      "Epoch: 1, B-idx: 200, Training loss: 0.40462401509284973\n",
      "Epoch: 1, B-idx: 300, Training loss: 0.3947691321372986\n",
      "Epoch: 1, B-idx: 400, Training loss: 0.39016473293304443\n",
      "Epoch: 1, B-idx: 500, Training loss: 0.38275885581970215\n",
      "Epoch: 1, B-idx: 600, Training loss: 0.3778039515018463\n",
      "Epoch: 1, B-idx: 700, Training loss: 0.3711467683315277\n",
      "Epoch: 2, B-idx: 0, Training loss: 0.3682546019554138\n",
      "Epoch: 2, B-idx: 100, Training loss: 0.3648754954338074\n",
      "Epoch: 2, B-idx: 200, Training loss: 0.36225226521492004\n",
      "Epoch: 2, B-idx: 300, Training loss: 0.35714617371559143\n",
      "Epoch: 2, B-idx: 400, Training loss: 0.3563425838947296\n",
      "Epoch: 2, B-idx: 500, Training loss: 0.3521137833595276\n",
      "Epoch: 2, B-idx: 600, Training loss: 0.34980523586273193\n",
      "Epoch: 2, B-idx: 700, Training loss: 0.3458189070224762\n",
      "Epoch: 3, B-idx: 0, Training loss: 0.34416407346725464\n",
      "Epoch: 3, B-idx: 100, Training loss: 0.34258222579956055\n",
      "Epoch: 3, B-idx: 200, Training loss: 0.3415234088897705\n",
      "Epoch: 3, B-idx: 300, Training loss: 0.33787062764167786\n",
      "Epoch: 3, B-idx: 400, Training loss: 0.3382781147956848\n",
      "Epoch: 3, B-idx: 500, Training loss: 0.3352188766002655\n",
      "Epoch: 3, B-idx: 600, Training loss: 0.33381009101867676\n",
      "Epoch: 3, B-idx: 700, Training loss: 0.33097922801971436\n"
     ]
    }
   ],
   "source": [
    "import time\n",
    "\n",
    "epochs = 4  # how many epochs to train for\n",
    "lr = 0.05  # learning rate\n",
    "\n",
    "start = time.time()\n",
    "train_losses = []\n",
    "valid_losses = []\n",
    "momentum = 0.9\n",
    "v = 0\n",
    "v_bias = 0\n",
    "for epoch in range(epochs):\n",
    "    for batch_idx in range((n - 1) // batch_size + 1):\n",
    "        start_i = batch_idx * batch_size\n",
    "        end_i = start_i + batch_size\n",
    "        xb = x_train[start_i:end_i]\n",
    "        yb = y_train[start_i:end_i]\n",
    "        pred = model(xb)\n",
    "        #m = torch.nn.Dropout(p=0.2)\n",
    "        #input = m(pred)\n",
    "        loss = loss_func(pred, yb)\n",
    "        loss.backward()\n",
    "        with torch.no_grad():\n",
    "            weights -= weights.grad * lr\n",
    "            #v = momentum * v -lr *(weights.grad) ## momentum not sure if well implemented\n",
    "            weights+=v\n",
    "            #print(weights)\n",
    "            #v_bias = momentum * v_bias -lr *(bias.grad)\n",
    "            bias -=  bias.grad*lr\n",
    "            weights.grad.zero_()\n",
    "            bias.grad.zero_()     \n",
    "            if batch_idx % 100 == 0:\n",
    "                with torch.no_grad():\n",
    "                    train_loss = loss_func(model(x_train), y_train)\n",
    "                    print(f\"Epoch: {epoch}, B-idx: {batch_idx}, Training loss: {train_loss}\")\n",
    "                    train_losses.append(train_loss)\n",
    "                       # valid_loss = loss_func(model(x_valid), y_valid)\n",
    "                        #print(f\"Epoch: {epoch}, B-idx: {batch_idx}, valid loss: {valid_loss}\")\n",
    "                        #valid_losses.append(train_loss)"
   ]
  },
  {
   "cell_type": "markdown",
   "metadata": {},
   "source": [
    "Plot the evolution of the training loss"
   ]
  },
  {
   "cell_type": "code",
   "execution_count": 14,
   "metadata": {
    "scrolled": true
   },
   "outputs": [
    {
     "data": {
      "text/plain": [
       "[<matplotlib.lines.Line2D at 0x7f041e167150>]"
      ]
     },
     "execution_count": 14,
     "metadata": {},
     "output_type": "execute_result"
    },
    {
     "data": {
      "image/png": "[encoded data removed]",
      "text/plain": [
       "<Figure size 432x288 with 1 Axes>"
      ]
     },
     "metadata": {
      "needs_background": "light"
     },
     "output_type": "display_data"
    }
   ],
   "source": [
    "plt.plot(range(len(train_losses)), train_losses,'b')"
   ]
  },
  {
   "cell_type": "markdown",
   "metadata": {},
   "source": [
    "__Exercise:__ \n",
    "1. Experiment with different variations of the gradient descent implementation; try varying the learning rate and the batch size. Assuming that you have a fixed time budget (say 2 minutes for learning), what can we then say about the effect of changing the parameters?\n",
    "2. Implement momentum in the learning algorithm. How does it affect the results? \n",
    "3. Try with different initialization schemes for the parameters (e.g. allowing for larger values). How does it affect the behavior of the algorithm?\n",
    "4. Analyze the behavior of the algorithm on the test set and implement a method for evaluating the accuracy over the entire training/test set (for inspiration, see Line 21 above).\n",
    "\n",
    "NB: We didn't have time to cover momentum and batch sizes during the last lecture, so please revisit the slides/literature and try to get the gist of this on your own. We will discuss it further at the lecture on Thursday. "
   ]
  },
  {
   "cell_type": "code",
   "execution_count": 15,
   "metadata": {},
   "outputs": [
    {
     "name": "stdout",
     "output_type": "stream",
     "text": [
      "tensor([[1.0261e-04, 1.6197e-07, 1.7623e-04,  ..., 9.9598e-01, 8.5512e-05,\n",
      "         1.6589e-03],\n",
      "        [9.9132e-03, 1.2259e-04, 8.9431e-01,  ..., 3.5899e-08, 6.7433e-03,\n",
      "         1.1007e-06],\n",
      "        [1.2085e-04, 9.5986e-01, 1.2925e-02,  ..., 4.3681e-03, 8.3249e-03,\n",
      "         1.3628e-03],\n",
      "        ...,\n",
      "        [2.3353e-06, 7.3057e-06, 7.9008e-05,  ..., 4.7297e-03, 1.3211e-02,\n",
      "         4.3089e-02],\n",
      "        [1.5362e-03, 3.5390e-03, 7.5067e-04,  ..., 4.6375e-04, 2.7682e-01,\n",
      "         7.8618e-04],\n",
      "        [3.3268e-04, 8.0757e-09, 1.0574e-03,  ..., 3.6392e-08, 5.3933e-06,\n",
      "         7.4387e-07]], grad_fn=<DivBackward0>)\n",
      "tensor([3, 8, 6,  ..., 5, 6, 8])\n",
      "Accuracy of model on batch (with random weights): 0.9132999777793884\n"
     ]
    }
   ],
   "source": [
    "pred_labels=model(x_test)\n",
    "print(pred_labels)\n",
    "print(y_valid)\n",
    "\n",
    "print(f\"Accuracy of model on batch (with random weights): {accuracy(pred_labels, y_test)}\")\n"
   ]
  },
  {
   "cell_type": "code",
   "execution_count": null,
   "metadata": {},
   "outputs": [],
   "source": []
  }
 ],
 "metadata": {
  "kernelspec": {
   "display_name": "Python 3",
   "language": "python",
   "name": "python3"
  },
  "language_info": {
   "codemirror_mode": {
    "name": "ipython",
    "version": 3
   },
   "file_extension": ".py",
   "mimetype": "text/x-python",
   "name": "python",
   "nbconvert_exporter": "python",
   "pygments_lexer": "ipython3",
   "version": "3.7.4"
  }
 },
 "nbformat": 4,
 "nbformat_minor": 2
}
